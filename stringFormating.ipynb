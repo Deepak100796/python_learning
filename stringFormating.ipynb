{
 "cells": [
  {
   "cell_type": "code",
   "execution_count": 3,
   "metadata": {},
   "outputs": [
    {
     "data": {
      "text/plain": [
       "[1, 2, 3, 5, 9, 9, 48]"
      ]
     },
     "execution_count": 3,
     "metadata": {},
     "output_type": "execute_result"
    }
   ],
   "source": [
    "li = [9,1,48,2,5,9,3]\n",
    "s_li = sorted(li)\n",
    "s_li"
   ]
  },
  {
   "cell_type": "code",
   "execution_count": 5,
   "metadata": {},
   "outputs": [
    {
     "data": {
      "text/plain": [
       "[9, 1, 48, 2, 5, 9, 3]"
      ]
     },
     "execution_count": 5,
     "metadata": {},
     "output_type": "execute_result"
    }
   ],
   "source": [
    "li"
   ]
  },
  {
   "cell_type": "code",
   "execution_count": 10,
   "metadata": {},
   "outputs": [
    {
     "name": "stdout",
     "output_type": "stream",
     "text": [
      "[1, 2, 3, 5, 9, 9, 48]\n"
     ]
    }
   ],
   "source": [
    "li.sort()\n",
    "print(li)"
   ]
  },
  {
   "cell_type": "code",
   "execution_count": 13,
   "metadata": {},
   "outputs": [
    {
     "data": {
      "text/plain": [
       "[48, 9, 9, 5, 3, 2, 1]"
      ]
     },
     "execution_count": 13,
     "metadata": {},
     "output_type": "execute_result"
    }
   ],
   "source": [
    "# sort decending order\n",
    "\n",
    "sli = sorted(li,reverse = True)\n",
    "sli\n"
   ]
  },
  {
   "cell_type": "code",
   "execution_count": 18,
   "metadata": {},
   "outputs": [
    {
     "name": "stdout",
     "output_type": "stream",
     "text": [
      "My name is Deepak and my age is 24 year old.\n"
     ]
    }
   ],
   "source": [
    "person = {'name':'Deepak','age':24}\n",
    "sentance = 'My name is {0} and my age is {1} year old.'.format(person['name'],person['age'])\n",
    "print(sentance)                                                          "
   ]
  },
  {
   "cell_type": "code",
   "execution_count": 20,
   "metadata": {},
   "outputs": [
    {
     "name": "stdout",
     "output_type": "stream",
     "text": [
      "<h1>this is headline</h1>\n"
     ]
    }
   ],
   "source": [
    "tag = 'h1'\n",
    "text = 'this is headline'\n",
    "sentance = '<{0}>{1}</{0}>'.format(tag,text)\n",
    "print(sentance)"
   ]
  },
  {
   "cell_type": "code",
   "execution_count": 31,
   "metadata": {},
   "outputs": [
    {
     "name": "stdout",
     "output_type": "stream",
     "text": [
      "My name is deepak and age is 24 year old\n"
     ]
    }
   ],
   "source": [
    "class Person():\n",
    "    \n",
    "    def __init__(self,name,age):\n",
    "        self.name = name\n",
    "        self.age = age\n",
    "\n",
    "        \n",
    "        \n",
    "p1 = Person('deepak',24)\n",
    "sentance = 'My name is {0.name} and age is {0.age} year old'.format(p1)\n",
    "print(sentance)"
   ]
  },
  {
   "cell_type": "code",
   "execution_count": 36,
   "metadata": {},
   "outputs": [
    {
     "name": "stdout",
     "output_type": "stream",
     "text": [
      "the value is 0000\n",
      "the value is 0001\n",
      "the value is 0002\n",
      "the value is 0003\n",
      "the value is 0004\n",
      "the value is 0005\n",
      "the value is 0006\n",
      "the value is 0007\n",
      "the value is 0008\n",
      "the value is 0009\n",
      "the value is 0010\n"
     ]
    }
   ],
   "source": [
    "for i in range(11):\n",
    "    sentance = 'the value is {:04}'.format(i)\n",
    "    print(sentance)"
   ]
  },
  {
   "cell_type": "code",
   "execution_count": 38,
   "metadata": {},
   "outputs": [
    {
     "name": "stdout",
     "output_type": "stream",
     "text": [
      "September 24, 2016 fell on a Saturday and was the 268 day of the year\n"
     ]
    }
   ],
   "source": [
    "import datetime\n",
    "my_date = datetime.datetime(2016,9,24,12,30,45)\n",
    "\n",
    "sentance = '{0:%B %d, %Y} fell on a {0:%A} and was the {0:%j} day of the year'.format(my_date)\n",
    "print(sentance)"
   ]
  },
  {
   "cell_type": "code",
   "execution_count": null,
   "metadata": {},
   "outputs": [],
   "source": []
  }
 ],
 "metadata": {
  "kernelspec": {
   "display_name": "Python 3",
   "language": "python",
   "name": "python3"
  },
  "language_info": {
   "codemirror_mode": {
    "name": "ipython",
    "version": 3
   },
   "file_extension": ".py",
   "mimetype": "text/x-python",
   "name": "python",
   "nbconvert_exporter": "python",
   "pygments_lexer": "ipython3",
   "version": "3.8.5"
  }
 },
 "nbformat": 4,
 "nbformat_minor": 4
}
